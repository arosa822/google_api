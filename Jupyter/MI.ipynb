{
 "cells": [
  {
   "cell_type": "code",
   "execution_count": null,
   "metadata": {},
   "outputs": [],
   "source": [
    "#import libraries\n",
    "import pandas as pd\n",
    "import gspread\n",
    "from oauth2client.service_account import ServiceAccountCredentials"
   ]
  },
  {
   "cell_type": "code",
   "execution_count": null,
   "metadata": {},
   "outputs": [],
   "source": [
    "#connect service account\n",
    "scope = ['https://spreadsheets.google.com/feeds']\n",
    "credentials = ServiceAccountCredentials.from_json_keyfile_name('./Jupyter_and_Google_Sheets-7519a691b50a.json', scope)\n",
    "gc = gspread.authorize(credentials)"
   ]
  },
  {
   "cell_type": "code",
   "execution_count": null,
   "metadata": {},
   "outputs": [],
   "source": [
    "#import data from google spreadsheet into jupyter\n",
    "spreadsheet_key = '1UW_uqLoRQ94cHBtE0FBJGSFQz-xOQ8XYhDdcj6Zzl2A'\n",
    "\n",
    "#use this to update the table\n",
    "book = gc.open_by_key(spreadsheet_key)\n",
    "worksheet = book.worksheet(\"Sheet1\")\n",
    "table = worksheet.get_all_values()"
   ]
  },
  {
   "cell_type": "code",
   "execution_count": null,
   "metadata": {},
   "outputs": [],
   "source": [
    "##Convert table data into a dataframe\n",
    "df = pd.DataFrame(table[1:], columns=table[0])\n",
    "\n",
    "##Only keep columns we need -- edit this in the future\n",
    "df = df[['CCI Customer', 'CCI Customer App', 'Site #', 'Site Name','CCI Customer Job # (JDE)','CCI WO Number','TEP#','Latitude','Longitude','Status' ]]\n",
    "\n",
    "##Convert number strings to floats and ints\n",
    "df = df.apply(pd.to_numeric, errors='ignore')\n",
    "\n",
    "##Convert date strings to datetime format\n",
    "#df['Date Added'] = pd.to_datetime(df['Date Added'],infer_datetime_format=True)\n",
    "#df['Start Date'] = pd.to_datetime(df['Start Date'],infer_datetime_format=True)\n",
    "\n",
    "df.head()"
   ]
  },
  {
   "cell_type": "markdown",
   "metadata": {},
   "source": [
    "# Search by job number"
   ]
  },
  {
   "cell_type": "code",
   "execution_count": null,
   "metadata": {},
   "outputs": [],
   "source": [
    "#Single Entry\n",
    "df[df['Site #'] == '822427']"
   ]
  },
  {
   "cell_type": "markdown",
   "metadata": {},
   "source": [
    "# Search by list of job numbers"
   ]
  },
  {
   "cell_type": "code",
   "execution_count": null,
   "metadata": {},
   "outputs": [],
   "source": [
    "# list of entries\n",
    "jlist = ['858247','823955','858230','857612','822623','822427','880634','845623','828617','845635','845628','880597','858210','858247']\n",
    "filtered = df[df['Site #'].isin(jlist)]"
   ]
  },
  {
   "cell_type": "code",
   "execution_count": null,
   "metadata": {},
   "outputs": [],
   "source": [
    "#instead of manually typing in each number creat another sheet and use api to retrieve the list and index that way"
   ]
  }
 ],
 "metadata": {
  "kernelspec": {
   "display_name": "Python 2",
   "language": "python",
   "name": "python2"
  },
  "language_info": {
   "codemirror_mode": {
    "name": "ipython",
    "version": 2
   },
   "file_extension": ".py",
   "mimetype": "text/x-python",
   "name": "python",
   "nbconvert_exporter": "python",
   "pygments_lexer": "ipython2",
   "version": "2.7.13"
  }
 },
 "nbformat": 4,
 "nbformat_minor": 2
}
